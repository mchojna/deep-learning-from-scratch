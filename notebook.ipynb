{
 "cells": [
  {
   "cell_type": "code",
   "execution_count": null,
   "metadata": {},
   "outputs": [],
   "source": [
    "weight = 0.1\n",
    "\n",
    "def neural_network_v1(input, weight):\n",
    "    prediction = input * weight\n",
    "    return prediction"
   ]
  },
  {
   "cell_type": "code",
   "execution_count": null,
   "metadata": {},
   "outputs": [
    {
     "name": "stdout",
     "output_type": "stream",
     "text": [
      "0.8500000000000001\n"
     ]
    }
   ],
   "source": [
    "number_of_toes = [8.5, 9.5, 10, 9]\n",
    "input = number_of_toes[0]\n",
    "pred = neural_network_v1(input, weight)\n",
    "print(pred)"
   ]
  },
  {
   "cell_type": "code",
   "execution_count": 6,
   "metadata": {},
   "outputs": [],
   "source": [
    "from typing import List\n",
    "\n",
    "def neural_network_v2(inputs: List, weights: List) -> int:\n",
    "    assert len(input) == len(weights)\n",
    "    prediction = sum([input * weight for input, weight in zip(inputs, weights)])\n",
    "    return prediction"
   ]
  },
  {
   "cell_type": "code",
   "execution_count": 7,
   "metadata": {},
   "outputs": [
    {
     "name": "stdout",
     "output_type": "stream",
     "text": [
      "0.9800000000000001\n"
     ]
    }
   ],
   "source": [
    "toes = [8.5, 9.5, 9.9, 9.0]\n",
    "wlrec = [0.65, 0.8, 0.8, 0.9]\n",
    "nfans = [1.2, 1.3, 0.5, 1.0]\n",
    "weights = [0.1, 0.2, 0]\n",
    "input = [toes[0], wlrec[0], nfans[0]]\n",
    "pred = neural_network_v2(input, weights)\n",
    "print(pred)"
   ]
  },
  {
   "cell_type": "code",
   "execution_count": 8,
   "metadata": {},
   "outputs": [],
   "source": [
    "def elementwise_multiplication(vec_a: List, vec_b: List) -> List:\n",
    "    assert len(vec_a) == len(vec_b)\n",
    "    return [a * b for a, b in zip(vec_a, vec_b)]\n",
    "\n",
    "def elementwise_addition(vec_a: List, vec_b: List) -> List:\n",
    "    assert len(vec_a) == len(vec_b)\n",
    "    return [a + b for a, b in zip(vec_a, vec_b)]\n",
    "\n",
    "def vector_sum(vec_a: List) -> float:\n",
    "    return sum(vec_a)\n",
    "\n",
    "def vector_average(vec_a: List) -> float:\n",
    "    return sum(vec_a) / len(vec_a)"
   ]
  },
  {
   "cell_type": "code",
   "execution_count": 9,
   "metadata": {},
   "outputs": [],
   "source": [
    "def dot_product(vec_a: List, vec_b: List) -> float:\n",
    "    return vector_sum(elementwise_multiplication(vec_a, vec_b))"
   ]
  },
  {
   "cell_type": "code",
   "execution_count": 10,
   "metadata": {},
   "outputs": [],
   "source": [
    "a = [0, 1, 0, 1]\n",
    "b = [1, 0, 1, 0]\n",
    "c = [0, 1, 1, 0]\n",
    "d = [.5, 0, .5, 0]\n",
    "e = [0, 1, -1, 0]"
   ]
  },
  {
   "cell_type": "code",
   "execution_count": 11,
   "metadata": {},
   "outputs": [
    {
     "name": "stdout",
     "output_type": "stream",
     "text": [
      "0\n",
      "1\n",
      "1.0\n",
      "2\n",
      "0.5\n",
      "0\n"
     ]
    }
   ],
   "source": [
    "print(dot_product(a, b))\n",
    "print(dot_product(b, c))\n",
    "print(dot_product(b, d))\n",
    "print(dot_product(c, c))\n",
    "print(dot_product(d,d))\n",
    "print(dot_product(c, e))"
   ]
  },
  {
   "cell_type": "code",
   "execution_count": 14,
   "metadata": {},
   "outputs": [
    {
     "data": {
      "text/plain": [
       "[np.float64(0.7261343856403875),\n",
       " np.float64(-0.253229079560728),\n",
       " np.float64(-0.5760961560006561),\n",
       " np.float64(-0.5868583918819871),\n",
       " np.float64(-0.7267674583392892),\n",
       " np.float64(3.0830640436518633),\n",
       " np.float64(-0.5545716842379943),\n",
       " np.float64(0.2848827145058189),\n",
       " np.float64(-0.17789342839141142),\n",
       " np.float64(-0.5545716842379943),\n",
       " np.float64(-0.5760961560006561),\n",
       " np.float64(-0.5868583918819871),\n",
       " np.float64(-0.5868583918819871),\n",
       " np.float64(-0.253229079560728),\n",
       " np.float64(-0.5653339201193252),\n",
       " np.float64(0.01582681747254548),\n",
       " np.float64(1.8884558608241289)]"
      ]
     },
     "execution_count": 14,
     "metadata": {},
     "output_type": "execute_result"
    }
   ],
   "source": [
    "import numpy as np\n",
    "g = [123, 32, 2, 1, -12, 342, 4, 82, 39, 4, 2, 1, 1, 32, 3, 57, 231]\n",
    "[(i - np.mean(g))/np.std(g) for i in g]"
   ]
  },
  {
   "cell_type": "code",
   "execution_count": 17,
   "metadata": {},
   "outputs": [],
   "source": [
    "import numpy as np\n",
    "\n",
    "weights = np.array([0.1, 0.2, 0])\n",
    "\n",
    "def neural_network_v3(input, weights):\n",
    "    pred = input.dot(weights)\n",
    "    return pred"
   ]
  },
  {
   "cell_type": "code",
   "execution_count": 18,
   "metadata": {},
   "outputs": [
    {
     "name": "stdout",
     "output_type": "stream",
     "text": [
      "0.9800000000000001\n"
     ]
    }
   ],
   "source": [
    "teos = np.array([8.5, 9.5, 9.9, 9.0])\n",
    "wlrec = np.array([0.65, 0.8, 0.8, 0.9])\n",
    "nfans = np.array([12, 1.3, 0.5, 1.0])\n",
    "\n",
    "input = np.array([toes[0], wlrec[0], nfans[0]])\n",
    "pred = neural_network_v3(input, weights)\n",
    "print(pred)"
   ]
  },
  {
   "cell_type": "code",
   "execution_count": null,
   "metadata": {},
   "outputs": [],
   "source": []
  }
 ],
 "metadata": {
  "kernelspec": {
   "display_name": ".venv",
   "language": "python",
   "name": "python3"
  },
  "language_info": {
   "codemirror_mode": {
    "name": "ipython",
    "version": 3
   },
   "file_extension": ".py",
   "mimetype": "text/x-python",
   "name": "python",
   "nbconvert_exporter": "python",
   "pygments_lexer": "ipython3",
   "version": "3.9.21"
  }
 },
 "nbformat": 4,
 "nbformat_minor": 2
}
